{
  "nbformat": 4,
  "nbformat_minor": 0,
  "metadata": {
    "colab": {
      "provenance": []
    },
    "kernelspec": {
      "name": "python3",
      "display_name": "Python 3"
    },
    "language_info": {
      "name": "python"
    }
  },
  "cells": [
    {
      "cell_type": "code",
      "execution_count": 1,
      "metadata": {
        "id": "GrpvrcuQNkW5"
      },
      "outputs": [],
      "source": [
        "import pandas as pd\n",
        "import numpy as np\n",
        "import seaborn as sns\n",
        "import matplotlib.pyplot as plt\n",
        "from scipy import stats"
      ]
    },
    {
      "cell_type": "markdown",
      "source": [
        "**1 sampel**"
      ],
      "metadata": {
        "id": "_uIw2FMskpdL"
      }
    },
    {
      "cell_type": "code",
      "source": [
        "data = [72, 67, 71, 73, 69, 68, 75]"
      ],
      "metadata": {
        "id": "Q4qB339WjSGy"
      },
      "execution_count": 2,
      "outputs": []
    },
    {
      "cell_type": "code",
      "source": [
        "# populasi mean\n",
        "mean_data=70"
      ],
      "metadata": {
        "id": "lJeLNz6_jTiJ"
      },
      "execution_count": 8,
      "outputs": []
    },
    {
      "cell_type": "markdown",
      "source": [
        "T stats menunjukkan seberapa besar perbedaan mean sample dengan mean populasi(mean sampel lainnya)\n",
        "\n",
        "P values menunjukkan indikasi kekuatan terhadap hipotesis 0"
      ],
      "metadata": {
        "id": "24kHVf62mDYS"
      }
    },
    {
      "cell_type": "code",
      "source": [
        "t_stat,p_values=stats.ttest_1samp(data,mean_data)"
      ],
      "metadata": {
        "id": "DIihoOzHjWZW"
      },
      "execution_count": 4,
      "outputs": []
    },
    {
      "cell_type": "code",
      "source": [
        "print(f\"T-Statistik:\",t_stat)\n",
        "print(f\"P-Values:\",p_values)"
      ],
      "metadata": {
        "colab": {
          "base_uri": "https://localhost:8080/"
        },
        "id": "dEb6DWJ-jelv",
        "outputId": "0b90c729-43e5-41f8-8dae-5f71cc2f91b2"
      },
      "execution_count": 11,
      "outputs": [
        {
          "output_type": "stream",
          "name": "stdout",
          "text": [
            "T-Statistik: -0.21042918714957282\n",
            "P-Values: 0.8368634422721865\n"
          ]
        }
      ]
    },
    {
      "cell_type": "code",
      "source": [
        "alpha=0.05"
      ],
      "metadata": {
        "id": "zBNIslt_jpWa"
      },
      "execution_count": 6,
      "outputs": []
    },
    {
      "cell_type": "code",
      "source": [
        "if p_values > alpha:\n",
        "  print('Hipotesis 0 ditolak (rata-rata sampel berbeda dengan rata-rata populasi)')\n",
        "else:\n",
        "  print('Hipotesis 0 diterima (rata-rata sampel berbeda dengan rata-rata populasi)')"
      ],
      "metadata": {
        "colab": {
          "base_uri": "https://localhost:8080/"
        },
        "id": "7sjQEN8gjsqx",
        "outputId": "5589765c-a992-4dbe-b646-ceacf8cdf06e"
      },
      "execution_count": 7,
      "outputs": [
        {
          "output_type": "stream",
          "name": "stdout",
          "text": [
            "Hipotesis 0 ditolak (rata-rata sampel berbeda dengan rata-rata populasi)\n"
          ]
        }
      ]
    },
    {
      "cell_type": "markdown",
      "source": [
        "**2 Sampel**"
      ],
      "metadata": {
        "id": "JxJ9joNXkuXS"
      }
    },
    {
      "cell_type": "code",
      "source": [
        "data1 = [72, 67, 71, 73, 69, 68, 75]\n",
        "data2 = [70, 72, 73, 71, 69, 68, 74]"
      ],
      "metadata": {
        "id": "0DyjOmhPkAwN"
      },
      "execution_count": 9,
      "outputs": []
    },
    {
      "cell_type": "code",
      "source": [
        "t_stat,p_values=stats.ttest_ind(data1,data2)"
      ],
      "metadata": {
        "id": "fc_hlOS4kxx0"
      },
      "execution_count": 10,
      "outputs": []
    },
    {
      "cell_type": "code",
      "source": [
        "print(f\"T-Statistik:\",t_stat)\n",
        "print(f\"P-Values:\",p_values)"
      ],
      "metadata": {
        "colab": {
          "base_uri": "https://localhost:8080/"
        },
        "id": "EFRjNZb6lH2g",
        "outputId": "bb892ffd-5042-4529-9326-381ce94e6e94"
      },
      "execution_count": 12,
      "outputs": [
        {
          "output_type": "stream",
          "name": "stdout",
          "text": [
            "T-Statistik: -0.21042918714957282\n",
            "P-Values: 0.8368634422721865\n"
          ]
        }
      ]
    },
    {
      "cell_type": "code",
      "source": [
        "alpha=0.05"
      ],
      "metadata": {
        "id": "bfy7H1mKlR1q"
      },
      "execution_count": 14,
      "outputs": []
    },
    {
      "cell_type": "code",
      "source": [
        "if p_values < alpha:\n",
        "    print(\"Hipotesis nol ditolak (rata-rata kedua kelompok berbeda).\")\n",
        "else:\n",
        "    print(\"Gagal menolak hipotesis nol (rata-rata kedua kelompok sama).\")"
      ],
      "metadata": {
        "colab": {
          "base_uri": "https://localhost:8080/"
        },
        "id": "zJFjwzvPlLwK",
        "outputId": "91ba7bab-e0e2-4e25-dd0e-56a2966915f6"
      },
      "execution_count": 15,
      "outputs": [
        {
          "output_type": "stream",
          "name": "stdout",
          "text": [
            "Gagal menolak hipotesis nol (rata-rata kedua kelompok sama).\n"
          ]
        }
      ]
    },
    {
      "cell_type": "code",
      "source": [],
      "metadata": {
        "id": "6I_P2PHRlP2m"
      },
      "execution_count": null,
      "outputs": []
    }
  ]
}