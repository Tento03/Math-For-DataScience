{
  "nbformat": 4,
  "nbformat_minor": 0,
  "metadata": {
    "colab": {
      "provenance": []
    },
    "kernelspec": {
      "name": "python3",
      "display_name": "Python 3"
    },
    "language_info": {
      "name": "python"
    }
  },
  "cells": [
    {
      "cell_type": "code",
      "execution_count": 19,
      "metadata": {
        "id": "GrpvrcuQNkW5"
      },
      "outputs": [],
      "source": [
        "import pandas as pd\n",
        "import numpy as np"
      ]
    },
    {
      "cell_type": "code",
      "source": [
        "data=np.array([3,7,7,19])"
      ],
      "metadata": {
        "id": "7cuTmqVloCEz"
      },
      "execution_count": 21,
      "outputs": []
    },
    {
      "cell_type": "markdown",
      "source": [
        "**AUTOMATIC FOR STANDARD DEVIATION**"
      ],
      "metadata": {
        "id": "ijSj2SBuqmmh"
      }
    },
    {
      "cell_type": "code",
      "source": [
        "standard_deviation=np.std(data)\n",
        "standard_deviation"
      ],
      "metadata": {
        "colab": {
          "base_uri": "https://localhost:8080/"
        },
        "id": "IH7rzKPnoHKL",
        "outputId": "60ea3820-6aff-44cf-8f33-7d0ebea7bf60"
      },
      "execution_count": 24,
      "outputs": [
        {
          "output_type": "execute_result",
          "data": {
            "text/plain": [
              "6.0"
            ]
          },
          "metadata": {},
          "execution_count": 24
        }
      ]
    },
    {
      "cell_type": "markdown",
      "source": [
        "**MANUAL FOR STANDARD DEVIATION**"
      ],
      "metadata": {
        "id": "mo_SOWpwqwko"
      }
    },
    {
      "cell_type": "code",
      "source": [
        "mean=np.mean(data)\n",
        "print(mean)"
      ],
      "metadata": {
        "colab": {
          "base_uri": "https://localhost:8080/"
        },
        "id": "pw28LHT1ofQw",
        "outputId": "82b9ee63-d48f-4a0e-8f5b-3635a0c62b0a"
      },
      "execution_count": 29,
      "outputs": [
        {
          "output_type": "stream",
          "name": "stdout",
          "text": [
            "9.0\n"
          ]
        }
      ]
    },
    {
      "cell_type": "code",
      "source": [
        "variance=np.mean((data-mean) ** 2)\n",
        "variance"
      ],
      "metadata": {
        "colab": {
          "base_uri": "https://localhost:8080/"
        },
        "id": "KjWvc8fDovd4",
        "outputId": "48c6c0fc-7890-434d-d611-51619382edcc"
      },
      "execution_count": 31,
      "outputs": [
        {
          "output_type": "execute_result",
          "data": {
            "text/plain": [
              "36.0"
            ]
          },
          "metadata": {},
          "execution_count": 31
        }
      ]
    },
    {
      "cell_type": "code",
      "source": [
        "std=np.sqrt(variance)\n",
        "std"
      ],
      "metadata": {
        "colab": {
          "base_uri": "https://localhost:8080/"
        },
        "id": "Gv3BLqewpbf4",
        "outputId": "308b4f2f-503b-4703-bf09-0fddd1fbe266"
      },
      "execution_count": 32,
      "outputs": [
        {
          "output_type": "execute_result",
          "data": {
            "text/plain": [
              "6.0"
            ]
          },
          "metadata": {},
          "execution_count": 32
        }
      ]
    },
    {
      "cell_type": "markdown",
      "source": [
        "STD SEBESAR 6 BERARTI RATA RATA DARI DATA MENYIMPANG SEBESAR 6 DARI 9"
      ],
      "metadata": {
        "id": "zKXEZlnary2I"
      }
    },
    {
      "cell_type": "markdown",
      "source": [
        "**MEAN ABSOLUTE DEVIATION**"
      ],
      "metadata": {
        "id": "8sSJX2qmq8uf"
      }
    },
    {
      "cell_type": "code",
      "source": [
        "mean=np.mean(data)\n",
        "mean"
      ],
      "metadata": {
        "colab": {
          "base_uri": "https://localhost:8080/"
        },
        "id": "HV1HVgoBqlTS",
        "outputId": "7371f324-2e74-483a-8d91-bcdffc368b88"
      },
      "execution_count": 33,
      "outputs": [
        {
          "output_type": "execute_result",
          "data": {
            "text/plain": [
              "9.0"
            ]
          },
          "metadata": {},
          "execution_count": 33
        }
      ]
    },
    {
      "cell_type": "code",
      "source": [
        "mean_absolute_deviation=np.mean(np.abs(data-mean))\n",
        "mean_absolute_deviation"
      ],
      "metadata": {
        "colab": {
          "base_uri": "https://localhost:8080/"
        },
        "id": "9ii_zR8DrCUJ",
        "outputId": "bd6ca775-1d11-49d8-b2a8-7345d9ae676d"
      },
      "execution_count": 35,
      "outputs": [
        {
          "output_type": "execute_result",
          "data": {
            "text/plain": [
              "5.0"
            ]
          },
          "metadata": {},
          "execution_count": 35
        }
      ]
    },
    {
      "cell_type": "markdown",
      "source": [
        "MAD SEBESAR 5 berarti dataset menyimpang sebesar 5 dari mean"
      ],
      "metadata": {
        "id": "TUaHenqPrRiW"
      }
    },
    {
      "cell_type": "code",
      "source": [],
      "metadata": {
        "id": "RpqZzH99rMyJ"
      },
      "execution_count": null,
      "outputs": []
    }
  ]
}